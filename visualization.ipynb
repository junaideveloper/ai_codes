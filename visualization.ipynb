{
 "cells": [
  {
   "cell_type": "code",
   "execution_count": 6,
   "metadata": {},
   "outputs": [],
   "source": [
    "import pandas as pd\n",
    "import numpy as np\n",
    "import matplotlib.pyplot as plt\n",
    "import matplotlib.cm as cm"
   ]
  },
  {
   "cell_type": "code",
   "execution_count": 7,
   "metadata": {},
   "outputs": [],
   "source": [
    "workout = {'dates': ['11/10/217', '11/12/217', '11/13/217', '11/14/217','11/15/217'],\n",
    "            'duration_minimum':[21.58,9.58,9.2,8.93,11.94],\n",
    "                  'distance_km': [4.9 ,1.9,1.9, 1.9,2.3],\n",
    "                  'delta_last_work_out': [1,18,14,5,5],\n",
    "                  'day_category': [0,1,1,0,0]}\n",
    "\n",
    "df = pd.DataFrame(workout)"
   ]
  },
  {
   "cell_type": "code",
   "execution_count": 8,
   "metadata": {},
   "outputs": [
    {
     "data": {
      "text/html": [
       "<div>\n",
       "<style scoped>\n",
       "    .dataframe tbody tr th:only-of-type {\n",
       "        vertical-align: middle;\n",
       "    }\n",
       "\n",
       "    .dataframe tbody tr th {\n",
       "        vertical-align: top;\n",
       "    }\n",
       "\n",
       "    .dataframe thead th {\n",
       "        text-align: right;\n",
       "    }\n",
       "</style>\n",
       "<table border=\"1\" class=\"dataframe\">\n",
       "  <thead>\n",
       "    <tr style=\"text-align: right;\">\n",
       "      <th></th>\n",
       "      <th>dates</th>\n",
       "      <th>duration_minimum</th>\n",
       "      <th>distance_km</th>\n",
       "      <th>delta_last_work_out</th>\n",
       "      <th>day_category</th>\n",
       "    </tr>\n",
       "  </thead>\n",
       "  <tbody>\n",
       "    <tr>\n",
       "      <th>0</th>\n",
       "      <td>11/10/217</td>\n",
       "      <td>21.58</td>\n",
       "      <td>4.9</td>\n",
       "      <td>1</td>\n",
       "      <td>0</td>\n",
       "    </tr>\n",
       "    <tr>\n",
       "      <th>1</th>\n",
       "      <td>11/12/217</td>\n",
       "      <td>9.58</td>\n",
       "      <td>1.9</td>\n",
       "      <td>18</td>\n",
       "      <td>1</td>\n",
       "    </tr>\n",
       "    <tr>\n",
       "      <th>2</th>\n",
       "      <td>11/13/217</td>\n",
       "      <td>9.20</td>\n",
       "      <td>1.9</td>\n",
       "      <td>14</td>\n",
       "      <td>1</td>\n",
       "    </tr>\n",
       "    <tr>\n",
       "      <th>3</th>\n",
       "      <td>11/14/217</td>\n",
       "      <td>8.93</td>\n",
       "      <td>1.9</td>\n",
       "      <td>5</td>\n",
       "      <td>0</td>\n",
       "    </tr>\n",
       "    <tr>\n",
       "      <th>4</th>\n",
       "      <td>11/15/217</td>\n",
       "      <td>11.94</td>\n",
       "      <td>2.3</td>\n",
       "      <td>5</td>\n",
       "      <td>0</td>\n",
       "    </tr>\n",
       "  </tbody>\n",
       "</table>\n",
       "</div>"
      ],
      "text/plain": [
       "       dates  duration_minimum  distance_km  delta_last_work_out  day_category\n",
       "0  11/10/217             21.58          4.9                    1             0\n",
       "1  11/12/217              9.58          1.9                   18             1\n",
       "2  11/13/217              9.20          1.9                   14             1\n",
       "3  11/14/217              8.93          1.9                    5             0\n",
       "4  11/15/217             11.94          2.3                    5             0"
      ]
     },
     "execution_count": 8,
     "metadata": {},
     "output_type": "execute_result"
    }
   ],
   "source": [
    "df"
   ]
  },
  {
   "cell_type": "code",
   "execution_count": 9,
   "metadata": {},
   "outputs": [],
   "source": [
    "def scatter_plot(df,x_dim,y_dim):\n",
    "    x = df[x_dim]\n",
    "    y = df[y_dim]\n",
    "\n",
    "    #converting original (numerical) labels into categorical labels\n",
    "    categories = df['day_category'].apply(lambda x: 'weekday' if x == 0 else 'weekend')\n",
    "    fig, ax = plt.subplots(figsize=(10, 5))\n",
    "\n",
    "    #defining an array of colors  \n",
    "    colors = ['#2300A8']\n",
    "    #assigns a color to each data point\n",
    "    #applies the custom color map along with the color sequence\n",
    "    # ax.scatter(x, y, alpha=0.70, c= df['day_category'], cmap=cm.brg)\n",
    "    ax.plot(x, y)\n",
    "\n",
    "\n",
    "    #adds a title and axes labels\n",
    "    ax.set_title('Distance vs Workout Duration')\n",
    "    ax.set_xlabel('Distance (Km)')\n",
    "    ax.set_ylabel('Workout Duration (min)')\n",
    "\n",
    "    #removing top and right borders\n",
    "    ax.spines['top'].set_visible(False)\n",
    "    ax.spines['right'].set_visible(False)\n",
    "\n",
    "    #adds major gridlines\n",
    "    ax.grid(color='grey', linestyle='-', linewidth=0.25, alpha=0.5)\n",
    "\n",
    "    #add legend\n",
    "    ax.legend(categories.unique())\n",
    "\n",
    "    print(categories.unique())\n",
    "    plt.savefig('chart.png',transparent= False)\n",
    "\n",
    "    plt.show()"
   ]
  },
  {
   "cell_type": "code",
   "execution_count": 10,
   "metadata": {},
   "outputs": [
    {
     "name": "stdout",
     "output_type": "stream",
     "text": [
      "['weekday' 'weekend']\n"
     ]
    },
    {
     "data": {
      "image/png": "[encoded data removed]",
      "text/plain": [
       "<Figure size 720x360 with 1 Axes>"
      ]
     },
     "metadata": {
      "needs_background": "light"
     },
     "output_type": "display_data"
    }
   ],
   "source": [
    "scatter_plot(df, 'distance_km', 'duration_minimum')"
   ]
  },
  {
   "cell_type": "code",
   "execution_count": null,
   "metadata": {},
   "outputs": [],
   "source": []
  }
 ],
 "metadata": {
  "interpreter": {
   "hash": "916dbcbb3f70747c44a77c7bcd40155683ae19c65e1c03b4aa3499c5328201f1"
  },
  "kernelspec": {
   "display_name": "Python 3.8.10 64-bit",
   "language": "python",
   "name": "python3"
  },
  "language_info": {
   "codemirror_mode": {
    "name": "ipython",
    "version": 3
   },
   "file_extension": ".py",
   "mimetype": "text/x-python",
   "name": "python",
   "nbconvert_exporter": "python",
   "pygments_lexer": "ipython3",
   "version": "3.8.10"
  },
  "orig_nbformat": 4
 },
 "nbformat": 4,
 "nbformat_minor": 2
}
